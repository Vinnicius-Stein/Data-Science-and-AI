{
 "cells": [
  {
   "cell_type": "markdown",
   "metadata": {},
   "source": [
    "# Interactible notebook: \n",
    "https://colab.research.google.com/drive/1c_x2hazNkNzZroPDs5FFm4_sfEyfOD3n?usp=sharing"
   ]
  },
  {
   "cell_type": "markdown",
   "metadata": {},
   "source": [
    "Vectorizing the code with numpy will be much faster than using for loops, so that's why i will use numpy as my main lib besides being easier to deal with vector/matrixes and their operations."
   ]
  },
  {
   "cell_type": "code",
   "execution_count": 1,
   "metadata": {},
   "outputs": [
    {
     "name": "stdout",
     "output_type": "stream",
     "text": [
      "Vectorized time: 4.005193710327148 ms\n",
      "Non-vectorized time: 616.1336898803711 ms\n"
     ]
    }
   ],
   "source": [
    "import time\n",
    "import numpy as np\n",
    "\n",
    "# Demonstrading that vectorized is much faster than non-vectorized for loops to compute.\n",
    "a = np.random.rand(1000000)\n",
    "b = np.random.rand(1000000)\n",
    "\n",
    "# Vectorized\n",
    "init = time.time()\n",
    "c = np.dot(a,b) #dot product of two matrixes that returns a scalar, do not confuse with Hadamard product.\n",
    "final = time.time()\n",
    "print('Vectorized time: ' + str(1000 * (final-init)) + ' ms')\n",
    "\n",
    "# Non-vectorized\n",
    "c = 0\n",
    "\n",
    "init = time.time()\n",
    "\n",
    "for i in range(len(a)):\n",
    "  c += a[i]*b[i]\n",
    "\n",
    "final = time.time()\n",
    "\n",
    "print('Non-vectorized time: ' + str(1000 * (final-init)) + ' ms')"
   ]
  },
  {
   "cell_type": "markdown",
   "metadata": {},
   "source": [
    "teste"
   ]
  }
 ],
 "metadata": {
  "kernelspec": {
   "display_name": "Python 3",
   "language": "python",
   "name": "python3"
  },
  "language_info": {
   "codemirror_mode": {
    "name": "ipython",
    "version": 3
   },
   "file_extension": ".py",
   "mimetype": "text/x-python",
   "name": "python",
   "nbconvert_exporter": "python",
   "pygments_lexer": "ipython3",
   "version": "3.8.3"
  }
 },
 "nbformat": 4,
 "nbformat_minor": 4
}
