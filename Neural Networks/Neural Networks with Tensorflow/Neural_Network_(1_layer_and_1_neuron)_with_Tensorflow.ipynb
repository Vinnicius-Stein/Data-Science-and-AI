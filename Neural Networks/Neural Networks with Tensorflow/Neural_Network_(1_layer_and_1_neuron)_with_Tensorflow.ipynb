{
  "nbformat": 4,
  "nbformat_minor": 0,
  "metadata": {
    "colab": {
      "name": "Neural Network (1 layer and 1 neuron) with Tensorflow.ipynb",
      "provenance": []
    },
    "kernelspec": {
      "name": "python3",
      "display_name": "Python 3"
    },
    "language_info": {
      "name": "python"
    }
  },
  "cells": [
    {
      "cell_type": "markdown",
      "metadata": {
        "id": "ytxGyXdMY7Eb"
      },
      "source": [
        "# Imports"
      ]
    },
    {
      "cell_type": "code",
      "metadata": {
        "id": "vMfgVxjrVAWJ"
      },
      "source": [
        "import tensorflow as tf\n",
        "import numpy as np\n",
        "from tensorflow import keras"
      ],
      "execution_count": 1,
      "outputs": []
    },
    {
      "cell_type": "code",
      "metadata": {
        "id": "nr-UoIwcVFVm"
      },
      "source": [
        "model = tf.keras.Sequential([keras.layers.Dense(units=1, input_shape=[1])])"
      ],
      "execution_count": 2,
      "outputs": []
    },
    {
      "cell_type": "code",
      "metadata": {
        "id": "V_24ovgCVWhx"
      },
      "source": [
        "#Setting to optimizer as Stochastic Gradient Descent and loss to mean squared error\n",
        "model.compile(optimizer='sgd', loss='mean_squared_error')"
      ],
      "execution_count": 3,
      "outputs": []
    },
    {
      "cell_type": "markdown",
      "metadata": {
        "id": "zP9-jGSAYMfo"
      },
      "source": [
        "# Objective\n",
        "\n",
        "The neural network has to find the patterns and relations between x and y. It is just for demonstration purposes. That's why I'm giving the data as a numpy array. Basically, the neural network has to identify the pattern formula:  y = 2x-1 and predict the next one."
      ]
    },
    {
      "cell_type": "code",
      "metadata": {
        "id": "KnwPrVaKWWtT"
      },
      "source": [
        "xs = np.array([-1.0,  0.0, 1.0, 2.0, 3.0, 4.0], dtype=float)\n",
        "ys = np.array([-3.0, -1.0, 1.0, 3.0, 5.0, 7.0], dtype=float)"
      ],
      "execution_count": 4,
      "outputs": []
    },
    {
      "cell_type": "code",
      "metadata": {
        "id": "iMgFqQ1uYuS2"
      },
      "source": [
        "model.fit(xs, ys, epochs=500)"
      ],
      "execution_count": null,
      "outputs": []
    },
    {
      "cell_type": "code",
      "metadata": {
        "colab": {
          "base_uri": "https://localhost:8080/"
        },
        "id": "zowLpuX6kZV1",
        "outputId": "2e003140-9d21-4a1a-a679-c7a769585db7"
      },
      "source": [
        "# So, y = 2*10 - 1 -> y = 19\n",
        "print(model.predict([10.0]))\n",
        "\n",
        "#almost there :)"
      ],
      "execution_count": 6,
      "outputs": [
        {
          "output_type": "stream",
          "text": [
            "[[18.987112]]\n"
          ],
          "name": "stdout"
        }
      ]
    }
  ]
}